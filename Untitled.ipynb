{
 "cells": [
  {
   "cell_type": "code",
   "execution_count": 10,
   "metadata": {},
   "outputs": [
    {
     "ename": "SyntaxError",
     "evalue": "invalid syntax (<ipython-input-10-4ddd41fa33ba>, line 8)",
     "output_type": "error",
     "traceback": [
      "\u001b[0;36m  File \u001b[0;32m\"<ipython-input-10-4ddd41fa33ba>\"\u001b[0;36m, line \u001b[0;32m8\u001b[0m\n\u001b[0;31m    print len(lines)\u001b[0m\n\u001b[0m            ^\u001b[0m\n\u001b[0;31mSyntaxError\u001b[0m\u001b[0;31m:\u001b[0m invalid syntax\n"
     ]
    }
   ],
   "source": [
    "# open and read the txt file.\n",
    "text_file = open(\"Name_of_File.txt\", \"r\")\n",
    "\n",
    "# Read each line of text file and save it in lines. \n",
    "lines = text_file.readlines()\n",
    "\n",
    "# print lines\n",
    "print len(lines)\n",
    "text_file.close()\n",
    "\n",
    "# Call CSV Library\n",
    "import csv\n",
    "\n",
    "# Make a csv file.\n",
    "mycsv = csv.writer(open('OutPut.csv', 'wb'))\n",
    "\n",
    "# Write header for csv file.\n",
    "mycsv.writerow(['a', 'b', 'c', 'd', 'e', 'f','g','h','i','j'])\n",
    "\n",
    "# This is a function that works in this way that:\n",
    "# Text file is reading each line and find where it has \"2016\"\n",
    "# Then it is finding other parameters for that date. \n",
    "# Spliting Date as year, month, day and other parameteres. \n",
    "n = 0\n",
    "for line in lines: \n",
    "    n = n + 1\n",
    "n = 0\n",
    "for line in lines: \n",
    "    n = n + 1\n",
    "    if \"2016\" in line:\n",
    "        if \"[\" in line:\n",
    "            date_time = line.split(\"[\")[0]\n",
    "            year = date_time.split(\" \")[0]\n",
    "            month = date_time.split(\" \")[1]\n",
    "            day = date_time.split(\"  \")[1]\n",
    "            time = date_time.split(\"  \")[2]\n",
    "            hour = time.split(\":\")[0]\n",
    "            minute = time.split(\":\")[1]\n",
    "            second = time.split(\":\")[2]            \n",
    "\n",
    "# At the end we save all information for that specific date and then going for other date.             \n",
    "        mycsv.writerow([year, month, day, hour, minute, second])\n"
   ]
  },
  {
   "cell_type": "code",
   "execution_count": 24,
   "metadata": {},
   "outputs": [],
   "source": [
    "text_file = open(\"testnew.txt\", \"r\")\n",
    "lines = text_file.readlines()\n"
   ]
  },
  {
   "cell_type": "code",
   "execution_count": 25,
   "metadata": {},
   "outputs": [
    {
     "name": "stdout",
     "output_type": "stream",
     "text": [
      "4592\n"
     ]
    }
   ],
   "source": [
    "print(len(lines))\n",
    "text_file.close()"
   ]
  },
  {
   "cell_type": "code",
   "execution_count": 26,
   "metadata": {},
   "outputs": [
    {
     "data": {
      "text/plain": [
       "74"
      ]
     },
     "execution_count": 26,
     "metadata": {},
     "output_type": "execute_result"
    }
   ],
   "source": [
    "import csv\n",
    "\n",
    "# Make a csv file.\n",
    "mycsv = csv.writer(open('OutPut.csv', 'w'))\n",
    "\n",
    "# Write header for csv file.\n",
    "mycsv.writerow(['SNo', 'Test Code', 'Name of Test', 'Methodology', 'Sample', 'Temp','Referral Lab time','MRP'])\n",
    "\n"
   ]
  },
  {
   "cell_type": "code",
   "execution_count": 19,
   "metadata": {},
   "outputs": [],
   "source": []
  },
  {
   "cell_type": "code",
   "execution_count": 23,
   "metadata": {},
   "outputs": [
    {
     "ename": "Error",
     "evalue": "iterator should return strings, not bytes (did you open the file in text mode?)",
     "output_type": "error",
     "traceback": [
      "\u001b[0;31m---------------------------------------------------------------------------\u001b[0m",
      "\u001b[0;31mError\u001b[0m                                     Traceback (most recent call last)",
      "\u001b[0;32m<ipython-input-23-60cec077acaf>\u001b[0m in \u001b[0;36m<module>\u001b[0;34m\u001b[0m\n\u001b[1;32m      5\u001b[0m \u001b[0mwriter\u001b[0m \u001b[0;34m=\u001b[0m \u001b[0mcsv\u001b[0m\u001b[0;34m.\u001b[0m\u001b[0mwriter\u001b[0m\u001b[0;34m(\u001b[0m\u001b[0moutput_file\u001b[0m\u001b[0;34m)\u001b[0m\u001b[0;34m\u001b[0m\u001b[0;34m\u001b[0m\u001b[0m\n\u001b[1;32m      6\u001b[0m \u001b[0;34m\u001b[0m\u001b[0m\n\u001b[0;32m----> 7\u001b[0;31m \u001b[0;32mfor\u001b[0m \u001b[0mrow\u001b[0m \u001b[0;32min\u001b[0m \u001b[0mreader\u001b[0m\u001b[0;34m:\u001b[0m\u001b[0;34m\u001b[0m\u001b[0;34m\u001b[0m\u001b[0m\n\u001b[0m\u001b[1;32m      8\u001b[0m     \u001b[0mwriter\u001b[0m\u001b[0;34m.\u001b[0m\u001b[0mwriterow\u001b[0m\u001b[0;34m(\u001b[0m\u001b[0mrow\u001b[0m\u001b[0;34m)\u001b[0m\u001b[0;34m\u001b[0m\u001b[0;34m\u001b[0m\u001b[0m\n\u001b[1;32m      9\u001b[0m \u001b[0;34m\u001b[0m\u001b[0m\n",
      "\u001b[0;31mError\u001b[0m: iterator should return strings, not bytes (did you open the file in text mode?)"
     ]
    }
   ],
   "source": [
    "input_file = open('testnew.txt', 'rb')\n",
    "output_file = open('OutPut.csv', 'wb')\n",
    "\n",
    "reader = csv.reader(input_file, delimiter=':', quoting=csv.QUOTE_NONE)\n",
    "writer = csv.writer(output_file)\n",
    "\n",
    "for row in reader:\n",
    "    writer.writerow(row)\n",
    "\n",
    "input_file.close()\n",
    "output_file.close()"
   ]
  },
  {
   "cell_type": "code",
   "execution_count": 1,
   "metadata": {},
   "outputs": [],
   "source": []
  },
  {
   "cell_type": "code",
   "execution_count": null,
   "metadata": {},
   "outputs": [],
   "source": []
  }
 ],
 "metadata": {
  "kernelspec": {
   "display_name": "Python 3",
   "language": "python",
   "name": "python3"
  },
  "language_info": {
   "codemirror_mode": {
    "name": "ipython",
    "version": 3
   },
   "file_extension": ".py",
   "mimetype": "text/x-python",
   "name": "python",
   "nbconvert_exporter": "python",
   "pygments_lexer": "ipython3",
   "version": "3.7.4"
  }
 },
 "nbformat": 4,
 "nbformat_minor": 2
}
